{
 "cells": [
  {
   "cell_type": "code",
   "execution_count": 9,
   "id": "590eee80",
   "metadata": {},
   "outputs": [],
   "source": [
    "import pandas as pd\n",
    "from sklearn.model_selection import train_test_split\n",
    "from sklearn.ensemble import RandomForestRegressor\n",
    "from sklearn.preprocessing import OneHotEncoder\n",
    "from sklearn.compose import ColumnTransformer\n",
    "from sklearn.pipeline import Pipeline\n",
    "from sklearn.metrics import mean_squared_error"
   ]
  },
  {
   "cell_type": "code",
   "execution_count": 10,
   "id": "d485d3e0",
   "metadata": {},
   "outputs": [],
   "source": [
    "df = pd.read_csv('uber_event.csv')"
   ]
  },
  {
   "cell_type": "code",
   "execution_count": 11,
   "id": "a60b1199",
   "metadata": {},
   "outputs": [
    {
     "name": "stdout",
     "output_type": "stream",
     "text": [
      "<class 'pandas.core.frame.DataFrame'>\n",
      "RangeIndex: 48120 entries, 0 to 48119\n",
      "Data columns (total 18 columns):\n",
      " #   Column               Non-Null Count  Dtype  \n",
      "---  ------               --------------  -----  \n",
      " 0   DateTime             48120 non-null  object \n",
      " 1   Junction             48120 non-null  int64  \n",
      " 2   Vehicles             48120 non-null  int64  \n",
      " 3   Vehicles_normalized  48120 non-null  float64\n",
      " 4   latitude             48120 non-null  float64\n",
      " 5   longitude            48120 non-null  float64\n",
      " 6   temperature          48120 non-null  int64  \n",
      " 7   weather_description  48120 non-null  object \n",
      " 8   wind_speed           48120 non-null  float64\n",
      " 9   humidity             48120 non-null  float64\n",
      " 10  precipitation        48120 non-null  float64\n",
      " 11  visibility           48120 non-null  float64\n",
      " 12  pressure             48120 non-null  float64\n",
      " 13  Events               48120 non-null  object \n",
      " 14  Name                 48120 non-null  object \n",
      " 15  City                 48120 non-null  object \n",
      " 16  Country              48120 non-null  object \n",
      " 17  Venue                48120 non-null  object \n",
      "dtypes: float64(8), int64(3), object(7)\n",
      "memory usage: 6.6+ MB\n"
     ]
    }
   ],
   "source": [
    "df.info()"
   ]
  },
  {
   "cell_type": "code",
   "execution_count": 12,
   "id": "35cabe48",
   "metadata": {},
   "outputs": [],
   "source": [
    "df['DateTime'] = pd.to_datetime(df['DateTime'], format='%d-%m-%Y %H:%M')"
   ]
  },
  {
   "cell_type": "code",
   "execution_count": 13,
   "id": "2a4a8dbf",
   "metadata": {},
   "outputs": [],
   "source": [
    "# Convert DateTime column to datetime format and extract hour\n",
    "df['DateTime'] = pd.to_datetime(df['DateTime'])\n",
    "df['Hour'] = df['DateTime'].dt.hour"
   ]
  },
  {
   "cell_type": "code",
   "execution_count": 14,
   "id": "669f0647",
   "metadata": {},
   "outputs": [],
   "source": [
    "# Define categorical features for encoding\n",
    "categorical_features = ['weather_description', 'Events', 'Name', 'City', 'Country', 'Venue']"
   ]
  },
  {
   "cell_type": "code",
   "execution_count": 15,
   "id": "74a5e1ca",
   "metadata": {},
   "outputs": [],
   "source": [
    "# Define preprocessing pipeline for categorical features\n",
    "preprocessor = ColumnTransformer(\n",
    "    transformers=[\n",
    "        ('cat', OneHotEncoder(handle_unknown='ignore'), categorical_features)\n",
    "    ],\n",
    "    remainder='passthrough'\n",
    ")"
   ]
  },
  {
   "cell_type": "code",
   "execution_count": 16,
   "id": "bda23b2e",
   "metadata": {},
   "outputs": [],
   "source": [
    "X = df.drop(['DateTime', 'Vehicles'], axis=1)  # Drop DateTime and target variable 'Vehicles'\n",
    "y = df['Vehicles']"
   ]
  },
  {
   "cell_type": "code",
   "execution_count": 17,
   "id": "6717a9d9",
   "metadata": {},
   "outputs": [],
   "source": [
    "# Split data into training and testing sets\n",
    "X_train, X_test, y_train, y_test = train_test_split(X, y, test_size=0.2, random_state=42)"
   ]
  },
  {
   "cell_type": "code",
   "execution_count": 18,
   "id": "686a2bba",
   "metadata": {},
   "outputs": [],
   "source": [
    "# Define Random Forest Regressor model\n",
    "model = RandomForestRegressor(random_state=42)"
   ]
  },
  {
   "cell_type": "code",
   "execution_count": 19,
   "id": "01adad0d",
   "metadata": {},
   "outputs": [],
   "source": [
    "# Create a pipeline with preprocessing and model\n",
    "pipeline = Pipeline(steps=[\n",
    "    ('preprocessor', preprocessor),\n",
    "    ('model', model)\n",
    "])"
   ]
  },
  {
   "cell_type": "code",
   "execution_count": 20,
   "id": "3ec5e471",
   "metadata": {},
   "outputs": [],
   "source": [
    "# Train the model\n",
    "pipeline.fit(X_train, y_train)\n",
    "\n",
    "# Predict on the test set\n",
    "y_pred = pipeline.predict(X_test)"
   ]
  },
  {
   "cell_type": "code",
   "execution_count": 21,
   "id": "0ec15616",
   "metadata": {},
   "outputs": [
    {
     "name": "stdout",
     "output_type": "stream",
     "text": [
      "Mean Squared Error: 0.01244599958437243\n"
     ]
    }
   ],
   "source": [
    "# Evaluate the model\n",
    "mse = mean_squared_error(y_test, y_pred)\n",
    "print(f'Mean Squared Error: {mse}')"
   ]
  },
  {
   "cell_type": "code",
   "execution_count": null,
   "id": "d5bcf380",
   "metadata": {},
   "outputs": [],
   "source": []
  }
 ],
 "metadata": {
  "kernelspec": {
   "display_name": "Python 3 (ipykernel)",
   "language": "python",
   "name": "python3"
  },
  "language_info": {
   "codemirror_mode": {
    "name": "ipython",
    "version": 3
   },
   "file_extension": ".py",
   "mimetype": "text/x-python",
   "name": "python",
   "nbconvert_exporter": "python",
   "pygments_lexer": "ipython3",
   "version": "3.11.3"
  }
 },
 "nbformat": 4,
 "nbformat_minor": 5
}
